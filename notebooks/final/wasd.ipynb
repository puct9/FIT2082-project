{
 "cells": [
  {
   "cell_type": "code",
   "execution_count": 1,
   "id": "cdd6da16",
   "metadata": {},
   "outputs": [],
   "source": [
    "import pandas as pd\n",
    "from scipy.stats import ttest_ind"
   ]
  },
  {
   "cell_type": "code",
   "execution_count": 2,
   "id": "1ea46fef",
   "metadata": {},
   "outputs": [],
   "source": [
    "lin_data = pd.read_csv('data-lin.csv')\n",
    "lin_tof_data = pd.read_csv('data-lin-tof.csv')"
   ]
  },
  {
   "cell_type": "code",
   "execution_count": 3,
   "id": "c90d2c27",
   "metadata": {},
   "outputs": [
    {
     "data": {
      "text/plain": [
       "Ttest_indResult(statistic=4.05247297162457, pvalue=5.3518492330956966e-05)"
      ]
     },
     "execution_count": 3,
     "metadata": {},
     "output_type": "execute_result"
    }
   ],
   "source": [
    "ttest_ind(lin_data['mse_prop_base'], lin_tof_data['mse_prop_base'], equal_var=False)"
   ]
  }
 ],
 "metadata": {
  "kernelspec": {
   "display_name": "Python 3",
   "language": "python",
   "name": "python3"
  },
  "language_info": {
   "codemirror_mode": {
    "name": "ipython",
    "version": 3
   },
   "file_extension": ".py",
   "mimetype": "text/x-python",
   "name": "python",
   "nbconvert_exporter": "python",
   "pygments_lexer": "ipython3",
   "version": "3.6.8"
  }
 },
 "nbformat": 4,
 "nbformat_minor": 5
}
